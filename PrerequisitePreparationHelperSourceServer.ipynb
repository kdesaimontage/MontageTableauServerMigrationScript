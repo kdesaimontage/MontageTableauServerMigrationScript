{
 "cells": [
  {
   "cell_type": "markdown",
   "metadata": {},
   "source": [
    "### This scipt helps to take inventory of the source Tableau Server. Code snippets below will print list of workbooks, datasources and users with their respective projects and groups. "
   ]
  },
  {
   "cell_type": "code",
   "execution_count": null,
   "metadata": {},
   "outputs": [],
   "source": [
    "import tableauserverclient as TSC\n",
    "import getpass\n",
    "import pandas as pd"
   ]
  },
  {
   "cell_type": "code",
   "execution_count": null,
   "metadata": {},
   "outputs": [],
   "source": [
    "# Connect to Source Server\n",
    "\n",
    "source_ts = '<<Source Server>>'\n",
    "source_user = '<<Tableau Admin User>>'\n",
    "source_site = '<<Tableau Online Site>>' # For Tablesu Online Only\n",
    "\n",
    "source_pwd = getpass.getpass(\"Enter password of source Tableau Server: \")\n",
    "source_tableau_auth = TSC.TableauAuth(source_user, source_pwd, source_site)\n",
    "source_server = TSC.Server(source_ts,use_server_version=True)\n",
    "with source_server.auth.sign_in(source_tableau_auth): \n",
    "    print(\"Connected to Source Server\")"
   ]
  },
  {
   "cell_type": "markdown",
   "metadata": {},
   "source": [
    "##### Produce a CSV of SourceWorkbookName|WorkbookProject|ParentProject"
   ]
  },
  {
   "cell_type": "code",
   "execution_count": null,
   "metadata": {},
   "outputs": [],
   "source": [
    "# Create Project_ID -> Project_Name pair\n",
    "source_projects = {}\n",
    "with source_server.auth.sign_in(source_tableau_auth): \n",
    "        # get all projects on site\n",
    "        all_project_items, pagination_item = source_server.projects.get()\n",
    "        for proj in all_project_items:\n",
    "            source_projects[proj.id] = proj.name"
   ]
  },
  {
   "cell_type": "code",
   "execution_count": null,
   "metadata": {},
   "outputs": [],
   "source": [
    "# Create Project_ID -> Project_Name + Parent_Project (If Any)\n",
    "#print('SubProjectName | ParentProjectName')\n",
    "\n",
    "with source_server.auth.sign_in(source_tableau_auth): \n",
    "        # get all projects on site\n",
    "        all_project_items, pagination_item = source_server.projects.get()\n",
    "        for proj in all_project_items:\n",
    "            if proj.parent_id:\n",
    "                #print(proj.name, \"|\" , source_projects[proj.parent_id])\n",
    "                source_projects[proj.id] = proj.name + '|' + source_projects[proj.parent_id]\n",
    "            else:\n",
    "                source_projects[proj.id] = proj.name\n",
    "#print(source_projects)"
   ]
  },
  {
   "cell_type": "code",
   "execution_count": null,
   "metadata": {},
   "outputs": [],
   "source": [
    "###### change below to produce a CSV file instead\n",
    "\n",
    "print('SourceWorkbookName|WorkbookProject|ParentProject')\n",
    "with source_server.auth.sign_in(source_tableau_auth): \n",
    "    all_workbooks, pagination_item = source_server.workbooks.get()\n",
    "    for workbook in all_workbooks:\n",
    "            print(workbook.name + '|' + source_projects[workbook.project_id])"
   ]
  },
  {
   "cell_type": "markdown",
   "metadata": {},
   "source": [
    "##### Produce a CSV of SourceDataSourceName|SourceSubProject|SourceProject"
   ]
  },
  {
   "cell_type": "code",
   "execution_count": null,
   "metadata": {},
   "outputs": [],
   "source": [
    "###### change below to produce a CSV file instead\n",
    "\n",
    "print('SourceDatasourceName|DatasourceProject|ParentProject')\n",
    "with source_server.auth.sign_in(source_tableau_auth):\n",
    "    all_datasources, pagination_item = source_server.datasources.get()\n",
    "    for datasource in all_datasources:\n",
    "        print(datasource.name + '|' + source_projects[datasource.project_id])"
   ]
  },
  {
   "cell_type": "markdown",
   "metadata": {},
   "source": [
    "##### Produce a CSV of SourceUsername|SourceSiteRole"
   ]
  },
  {
   "cell_type": "code",
   "execution_count": null,
   "metadata": {},
   "outputs": [],
   "source": [
    "###### change below to produce a CSV file instead\n",
    "\n",
    "print(\"SourceUsername|SourceSiteRole\")\n",
    "with source_server.auth.sign_in(source_tableau_auth):\n",
    "    all_users, pagination_item = source_server.users.get()\n",
    "    for user in all_users:\n",
    "        print(user.name + \"|\" + user.site_role)\n"
   ]
  }
 ],
 "metadata": {
  "kernelspec": {
   "display_name": "Python 3",
   "language": "python",
   "name": "python3"
  },
  "language_info": {
   "codemirror_mode": {
    "name": "ipython",
    "version": 3
   },
   "file_extension": ".py",
   "mimetype": "text/x-python",
   "name": "python",
   "nbconvert_exporter": "python",
   "pygments_lexer": "ipython3",
   "version": "3.7.6"
  }
 },
 "nbformat": 4,
 "nbformat_minor": 4
}
