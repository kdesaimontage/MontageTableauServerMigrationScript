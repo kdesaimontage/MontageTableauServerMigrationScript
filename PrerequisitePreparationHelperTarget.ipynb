{
 "cells": [
  {
   "cell_type": "markdown",
   "metadata": {},
   "source": [
    "### This scipt helps to list projects with respective project IDs and sub-project flag from the Target Tableau Server. Code snippets below will print list of projects and user groups with their respective IDs. "
   ]
  },
  {
   "cell_type": "code",
   "execution_count": null,
   "metadata": {},
   "outputs": [],
   "source": [
    "import tableauserverclient as TSC\n",
    "import getpass\n",
    "import pandas as pd"
   ]
  },
  {
   "cell_type": "code",
   "execution_count": null,
   "metadata": {},
   "outputs": [],
   "source": [
    "# Connect to Target Server\n",
    "\n",
    "target_ts = '<<Target Server>>'\n",
    "target_user = '<<Tableau Admin User>>'\n",
    "target_site = '<<Tableau Online Site>>' # For Tablesu Online Only\n",
    "\n",
    "target_pwd = getpass.getpass(\"Enter password of target Tableau Server: \")\n",
    "target_tableau_auth = TSC.TableauAuth(target_user, target_pwd)\n",
    "target_server = TSC.Server(target_ts,use_server_version=True)\n",
    "with target_server.auth.sign_in(target_tableau_auth): \n",
    "    print(\"Connected to Target Server\") "
   ]
  },
  {
   "cell_type": "markdown",
   "metadata": {},
   "source": [
    "##### Produce a CSV of TargetProjectName|TargetProjectID|IsSubProject|ParentProjectName|ParentProjectID"
   ]
  },
  {
   "cell_type": "code",
   "execution_count": null,
   "metadata": {},
   "outputs": [],
   "source": [
    "# Create Project ID -> Project Name dictionary\n",
    "target_projects = {} \n",
    "\n",
    "with target_server.auth.sign_in(target_tableau_auth):\n",
    "        # get all projects on site\n",
    "        all_project_items, pagination_item = target_server.projects.get()\n",
    "        for proj in all_project_items:\n",
    "            target_projects[proj.id] = proj.name\n",
    "\n",
    "            \n",
    "print('TargetProjectName|TargetProjectID|IsSubProject|ParentProjectName|ParentProjectID')\n",
    "\n",
    "with target_server.auth.sign_in(target_tableau_auth):\n",
    "        # get all projects on site\n",
    "        all_project_items, pagination_item = target_server.projects.get()\n",
    "        for proj in all_project_items:\n",
    "            if proj.parent_id:\n",
    "                print(proj.name + \"|\" + proj.id + \"|Y|\" + target_projects[proj.parent_id] + \"|\"  + proj.parent_id)\n",
    "            else:\n",
    "                print(proj.name +  \"|\" + proj.id + \"|N|\")"
   ]
  },
  {
   "cell_type": "markdown",
   "metadata": {},
   "source": [
    "##### Produce a CSV with TargetGroupNames|TargetGroupIDs"
   ]
  },
  {
   "cell_type": "code",
   "execution_count": null,
   "metadata": {},
   "outputs": [],
   "source": [
    "print(\"TargetGroupName|TargetGroupID\")\n",
    "with target_server.auth.sign_in(target_tableau_auth):\n",
    "    all_groups, pagination_item = target_server.groups.get()\n",
    "    for group in all_groups:\n",
    "        print(group.name+ \"|\" + group.id)\n"
   ]
  }
 ],
 "metadata": {
  "kernelspec": {
   "display_name": "Python 3",
   "language": "python",
   "name": "python3"
  },
  "language_info": {
   "codemirror_mode": {
    "name": "ipython",
    "version": 3
   },
   "file_extension": ".py",
   "mimetype": "text/x-python",
   "name": "python",
   "nbconvert_exporter": "python",
   "pygments_lexer": "ipython3",
   "version": "3.7.6"
  }
 },
 "nbformat": 4,
 "nbformat_minor": 4
}
