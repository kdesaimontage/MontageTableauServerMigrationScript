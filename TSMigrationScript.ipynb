{
 "cells": [
  {
   "cell_type": "markdown",
   "metadata": {},
   "source": [
    "### The code snippets below will migrate datasources followed by workbooks from source to target Tableau Server."
   ]
  },
  {
   "cell_type": "code",
   "execution_count": null,
   "metadata": {},
   "outputs": [],
   "source": [
    "import tableauserverclient as TSC\n",
    "import getpass\n",
    "import pandas as pd\n",
    "import json"
   ]
  },
  {
   "cell_type": "code",
   "execution_count": null,
   "metadata": {},
   "outputs": [],
   "source": [
    "# Connect to Source Server\n",
    "\n",
    "source_ts = '<<Source Server>>'\n",
    "source_user = '<<Tableau Admin User>>'\n",
    "source_site = '<<Tableau Online Site>>' # For Tablesu Online Only\n",
    "\n",
    "source_pwd = getpass.getpass(\"Enter password of source Tableau Server: \")\n",
    "source_tableau_auth = TSC.TableauAuth(source_user, source_pwd, source_site)\n",
    "source_server = TSC.Server(source_ts,use_server_version=True)\n",
    "with source_server.auth.sign_in(source_tableau_auth): \n",
    "    print(\"Connected to Source Server\")"
   ]
  },
  {
   "cell_type": "code",
   "execution_count": null,
   "metadata": {},
   "outputs": [],
   "source": [
    "# Connect to Target Server\n",
    "\n",
    "target_ts = '<<Target Server>>'\n",
    "target_user = '<<Tableau Admin User>>'\n",
    "target_site = '<<Tableau Online Site>>' # For Tablesu Online Only\n",
    "\n",
    "target_pwd = getpass.getpass(\"Enter password of target Tableau Server: \")\n",
    "target_tableau_auth = TSC.TableauAuth(target_user, target_pwd)\n",
    "target_server = TSC.Server(target_ts,use_server_version=True)\n",
    "with target_server.auth.sign_in(target_tableau_auth): \n",
    "    print(\"Connected to Target Server\") "
   ]
  },
  {
   "cell_type": "code",
   "execution_count": null,
   "metadata": {},
   "outputs": [],
   "source": [
    "#Load Mapping Data \n",
    "\n",
    "datasource_project_mapping_df = pd.read_csv(\"datasource_target_project_mapping.csv\",sep='|')\n",
    "datasource_project_mapping = dict(zip(datasource_project_mapping_df.SourceDataSourceName,\n",
    "                                      datasource_project_mapping_df.TargetProjectID))\n",
    "\n",
    "workbook_project_mapping_df = pd.read_csv(\"workbook_target_project_mapping.csv\", sep='|')\n",
    "workbook_project_mapping = dict(zip(workbook_project_mapping_df.SourceWorkbookName, workbook_project_mapping_df.TargetProjectID))\n",
    "\n",
    "user_groups_mapping_df = pd.read_csv(\"user_groups_mapping.csv\", sep='|')\n",
    "\n",
    "datasource_credentials_df = pd.read_csv(\"datasource_credentials.csv\",sep='|')\n",
    "datasource_credentials =  datasource_credentials_df.set_index('LiveDataSourceName').T.to_dict('list')\n",
    "\n",
    "workbook_credentials_df = pd.read_csv(\"workbook_credentials.csv\",sep='|')\n",
    "workbook_credentials =  workbook_credentials_df.set_index('LiveWorkbookName').T.to_dict('list')\n"
   ]
  },
  {
   "cell_type": "markdown",
   "metadata": {},
   "source": [
    "##### Migrating data sources - Below code migrate datasource published separately on the source server. "
   ]
  },
  {
   "cell_type": "code",
   "execution_count": null,
   "metadata": {},
   "outputs": [],
   "source": [
    "with source_server.auth.sign_in(source_tableau_auth):\n",
    "    all_datasources, pagination_item = source_server.datasources.get()\n",
    "   \n",
    "    for datasource in all_datasources:\n",
    "        #if datasource.project_name == 'TSMigrationSource':\n",
    "        if datasource.name in datasource_project_mapping:\n",
    "            ds_file_path = source_server.datasources.download(datasource.id)\n",
    "            with target_server.auth.sign_in(target_tableau_auth):\n",
    "                new_ds = TSC.DatasourceItem(datasource_project_mapping[datasource.name])\n",
    "                try:\n",
    "                    if datasource.name in datasource_credentials:\n",
    "                        conn_creds = TSC.ConnectionCredentials(name=datasource_credentials['may20testdata (new_test_db)'][0],\n",
    "                                                               password=datasource_credentials['may20testdata (new_test_db)'][1])\n",
    "                        new_ds = target_server.datasources.publish(new_ds, ds_file_path, overwrite_true,\n",
    "                                                                  connection_credentials=conn_creds)\n",
    "                    else:\n",
    "                        new_ds = target_server.datasources.publish(new_ds, ds_file_path, overwrite_true)\n",
    "                    print(ds_file_path + ' Uploaded Successfully.')\n",
    "                except:\n",
    "                    print(ds_file_path + ' Not Uploaded\\n')"
   ]
  },
  {
   "cell_type": "markdown",
   "metadata": {},
   "source": [
    "##### Migrating workbooks - Below code migrate workbooks on the source server. "
   ]
  },
  {
   "cell_type": "code",
   "execution_count": null,
   "metadata": {},
   "outputs": [],
   "source": [
    "# Uploading workbooks \n",
    "\n",
    "successfully_uploaded = {} #Keep a list of successfully uploaded workbooks.\n",
    "\n",
    "with source_server.auth.sign_in(source_tableau_auth): \n",
    "    all_workbooks, pagination_item = source_server.workbooks.get()\n",
    "              \n",
    "    for workbook in all_workbooks:\n",
    "         if workbook.name in workbook_project_mapping:\n",
    "            print(\"Workbok ==> \" + workbook.name)\n",
    "            wb_file_path = source_server.workbooks.download(workbook.id)\n",
    "            with target_server.auth.sign_in(target_tableau_auth):\n",
    "                new_wb = TSC.WorkbookItem(workbook_project_mapping[workbook.name])\n",
    "                try:\n",
    "                    if workbook.name in workbook_credentials:\n",
    "                        conn_creds = TSC.ConnectionCredentials(name=workbook_credentials[workbook.name][0],\n",
    "                                                               password=workbook_credentials[workbook.name][1])\n",
    "                        new_wb = target_server.workbooks.publish(new_wb, wb_file_path, overwrite_true,\n",
    "                                                                 connection_credentials=conn_creds)\n",
    "                        print(wb_file_path + ' Uploaded Successfully.')\n",
    "                    else:\n",
    "                        new_wb = target_server.workbooks.publish(new_wb, wb_file_path, overwrite_true)\n",
    "                        print(wb_file_path + ' Uploaded Successfully.')\n",
    "                    successfully_uploaded[wb_file_path] = True\n",
    "                except:\n",
    "                    print(wb_file_path + ' Not Uploaded')\n",
    "                    successfully_uploaded[wb_file_path] = False\n",
    "                    \n",
    "#print(successfully_uploaded)"
   ]
  }
 ],
 "metadata": {
  "kernelspec": {
   "display_name": "Python 3",
   "language": "python",
   "name": "python3"
  },
  "language_info": {
   "codemirror_mode": {
    "name": "ipython",
    "version": 3
   },
   "file_extension": ".py",
   "mimetype": "text/x-python",
   "name": "python",
   "nbconvert_exporter": "python",
   "pygments_lexer": "ipython3",
   "version": "3.7.6"
  }
 },
 "nbformat": 4,
 "nbformat_minor": 4
}
